{
 "cells": [
  {
   "cell_type": "markdown",
   "metadata": {},
   "source": [
    "1. Sequence Type "
   ]
  },
  {
   "cell_type": "code",
   "execution_count": 63,
   "metadata": {},
   "outputs": [
    {
     "name": "stdout",
     "output_type": "stream",
     "text": [
      "Tipe Data List\n",
      "1\n",
      "4.0\n",
      "empat\n",
      "\n",
      "Tipe Data Tuple\n",
      "Januari\n"
     ]
    }
   ],
   "source": [
    "# List\n",
    "print(\"Tipe Data List\")\n",
    "contoh_list = [1, \"dua\", 3, 4.0, 5]\n",
    "print(contoh_list[0])\n",
    "print(contoh_list[3])\n",
    "contoh_list = [1, \"dua\", 3, 4.0, 5]\n",
    "contoh_list[3] = \"empat\"\n",
    "print(contoh_list[3])\n",
    "\n",
    "# Tuple\n",
    "print(\"\\nTipe Data Tuple\")\n",
    "contoh_tuple = (\"Januari\", \"Februari\", \"Maret\", \"April\")\n",
    "print(contoh_tuple[0])\n",
    "contoh_tuple = (\"Januari\", \"Februari\", \"Maret\", \"April\")\n",
    "# contoh_tuple[0] = \"Desember\""
   ]
  },
  {
   "cell_type": "markdown",
   "metadata": {},
   "source": [
    "2. Set Type"
   ]
  },
  {
   "cell_type": "code",
   "execution_count": 64,
   "metadata": {},
   "outputs": [
    {
     "name": "stdout",
     "output_type": "stream",
     "text": [
      "['Dewi', 'Budi', 'Cici', 'Linda', 'Cici']\n",
      "{'Cici', 'Budi', 'Linda', 'Dewi'}\n",
      "{'Cici', 'Budi', 'Linda', 'Dewi'}\n"
     ]
    }
   ],
   "source": [
    "# Set Type\n",
    "contoh_list = [\"Dewi\", \"Budi\", \"Cici\", \"Linda\", \"Cici\"]\n",
    "print(contoh_list)\n",
    "contoh_set = {\"Dewi\", \"Budi\", \"Cici\", \"Linda\", \"Cici\"}\n",
    "print(contoh_set)\n",
    "contoh_frozen_set = ({\"Dewi\", \"Budi\", \"Cici\", \"Linda\", \"Cici\"})\n",
    "print(contoh_frozen_set)"
   ]
  },
  {
   "cell_type": "markdown",
   "metadata": {},
   "source": [
    "3. Mapping Type"
   ]
  },
  {
   "cell_type": "code",
   "execution_count": 65,
   "metadata": {},
   "outputs": [
    {
     "name": "stdout",
     "output_type": "stream",
     "text": [
      "John Doe\n",
      "Programmer\n"
     ]
    }
   ],
   "source": [
    "person = {\"name\":\"John Doe\", \"pekerjaan\":\"Programmer\"}\n",
    "print(person[\"name\"])\n",
    "print(person[\"pekerjaan\"])"
   ]
  },
  {
   "cell_type": "markdown",
   "metadata": {},
   "source": [
    "4. Tugas Praktek"
   ]
  },
  {
   "cell_type": "code",
   "execution_count": 66,
   "metadata": {},
   "outputs": [
    {
     "name": "stdout",
     "output_type": "stream",
     "text": [
      "{'nama': 'Sepatu Niko', 'harga': 150000, 'diskon': 30000}\n",
      "{'nama': 'Baju Unikloh', 'harga': 80000, 'diskon': 8000}\n",
      "{'name': 'Celana Lepis', 'harga': 200000, 'diskon': 60000}\n"
     ]
    }
   ],
   "source": [
    "sepatu = {\n",
    "  \"nama\":\"Sepatu Niko\",\n",
    "  \"harga\":150000,\n",
    "  \"diskon\":30000\n",
    "}\n",
    "baju = {\n",
    "  \"nama\":\"Baju Unikloh\",\n",
    "  \"harga\":80000,\n",
    "  \"diskon\":8000\n",
    "}\n",
    "celana = {\n",
    "  \"name\":\"Celana Lepis\",\n",
    "  \"harga\":200000,\n",
    "  \"diskon\":60000\n",
    "}\n",
    "\n",
    "print(sepatu)\n",
    "print(baju)\n",
    "print(celana)"
   ]
  },
  {
   "cell_type": "markdown",
   "metadata": {},
   "source": [
    "5. Tugas Praktek"
   ]
  },
  {
   "cell_type": "code",
   "execution_count": 67,
   "metadata": {},
   "outputs": [
    {
     "name": "stdout",
     "output_type": "stream",
     "text": [
      "[{'nama': 'Sepatu Niko', 'harga': 150000, 'diskon': 30000}, {'nama': 'Baju Unikloh', 'harga': 80000, 'diskon': 8000}, {'nama': 'Celana Lapis', 'harga': 200000, 'diskon': 60000}]\n"
     ]
    }
   ],
   "source": [
    "sepatu = {\n",
    "  \"nama\":\"Sepatu Niko\",\n",
    "  \"harga\":150000,\n",
    "  \"diskon\":30000\n",
    "}\n",
    "baju = {\n",
    "  \"nama\":\"Baju Unikloh\",\n",
    "  \"harga\":80000,\n",
    "  \"diskon\":8000\n",
    "}\n",
    "celana = {\n",
    "  \"nama\":\"Celana Lapis\",\n",
    "  \"harga\":200000,\n",
    "  \"diskon\":60000\n",
    "}\n",
    "daftar_belanja = [sepatu, baju, celana]\n",
    "print(daftar_belanja)"
   ]
  },
  {
   "cell_type": "markdown",
   "metadata": {},
   "source": [
    "6. Tugas Praktek"
   ]
  },
  {
   "cell_type": "code",
   "execution_count": 68,
   "metadata": {},
   "outputs": [
    {
     "name": "stdout",
     "output_type": "stream",
     "text": [
      "365200.0\n"
     ]
    }
   ],
   "source": [
    "# Hitunglah harga masing - masing data setelah dikurangi diskon\n",
    "harga_sepatu = sepatu[\"harga\"] - sepatu[\"diskon\"]\n",
    "harga_baju = baju[\"harga\"] - baju[\"diskon\"]\n",
    "harga_celana = celana[\"harga\"] - celana[\"diskon\"]\n",
    "\n",
    "# Hitunglah harga total\n",
    "harga_total = harga_sepatu + harga_baju + harga_celana\n",
    "\n",
    "# Hitung harga kena pajak\n",
    "total_pajak = harga_total * 0.1\n",
    "\n",
    "# Cetak total_harga + total_pajak\n",
    "print(harga_total + total_pajak)"
   ]
  },
  {
   "cell_type": "markdown",
   "metadata": {},
   "source": [
    "7. Tipe Data Operator\n",
    "--> 1. Arithmetic Operators\n",
    "--> 2. Assigment Operators\n",
    "--> 3. Comparison Operators\n",
    "--> 4. Logical Operators\n",
    "--> 5. Identity Operators\n",
    "--> 6. Membership Operators"
   ]
  },
  {
   "cell_type": "code",
   "execution_count": 69,
   "metadata": {},
   "outputs": [
    {
     "name": "stdout",
     "output_type": "stream",
     "text": [
      "Penyederhanaan kode - harga bayar =  115500.0\n"
     ]
    }
   ],
   "source": [
    "# Nilai Prioritas Operator dalam Python - Part 1\n",
    "# Kode Awal\n",
    "total_harga = 150000\n",
    "potongan_harga = 0.3\n",
    "pajak = 0.1\n",
    "harga_bayar = 1 - 0.3\n",
    "harga_bayar *= total_harga\n",
    "pajak_bayar = pajak * harga_bayar\n",
    "harga_bayar += pajak_bayar\n",
    "\n",
    "# Penyederhanaan baris kode dengan menerapkan prioritas operator\n",
    "total_harga = 150000\n",
    "potongan_harga = 0.3\n",
    "pajak = 0.1\n",
    "harga_bayar = (1 - potongan_harga) * total_harga\n",
    "harga_bayar += harga_bayar*pajak\n",
    "print(\"Penyederhanaan kode - harga bayar = \", harga_bayar)"
   ]
  },
  {
   "cell_type": "markdown",
   "metadata": {},
   "source": [
    "8. Tugas Praktek"
   ]
  },
  {
   "cell_type": "code",
   "execution_count": 70,
   "metadata": {},
   "outputs": [
    {
     "name": "stdout",
     "output_type": "stream",
     "text": [
      "365200.00000000006\n"
     ]
    }
   ],
   "source": [
    "sepatu = {\n",
    "  \"nama\":\"Sepatu Niko\",\n",
    "  \"harga\":150000,\n",
    "  \"diskon\":30000\n",
    "}\n",
    "baju = {\n",
    "  \"nama\":\"Baju Unikloh\",\n",
    "  \"harga\":80000,\n",
    "  \"diskon\":8000\n",
    "}\n",
    "celana = {\n",
    "  \"nama\":\"Celana Lapis\",\n",
    "  \"harga\":200000,\n",
    "  \"diskon\":60000\n",
    "}\n",
    "harga_sepatu = sepatu[\"harga\"] - sepatu[\"diskon\"]\n",
    "harga_baju = baju[\"harga\"] - baju[\"diskon\"]\n",
    "harga_celana = celana[\"harga\"] - celana[\"diskon\"]\n",
    "total_harga = (harga_sepatu + harga_baju + harga_celana) * 1.1\n",
    "print(total_harga)"
   ]
  },
  {
   "cell_type": "markdown",
   "metadata": {},
   "source": [
    "9. Python Conditioning for Decision"
   ]
  },
  {
   "cell_type": "code",
   "execution_count": 71,
   "metadata": {},
   "outputs": [
    {
     "name": "stdout",
     "output_type": "stream",
     "text": [
      "x habis di bagi 2\n",
      "x tidak habis dibagi 2, 3, dan 5\n"
     ]
    }
   ],
   "source": [
    "# Statement If\n",
    "x = 4\n",
    "if x % 2 == 0:\n",
    "  print(\"x habis di bagi 2\")\n",
    "\n",
    "x = 7\n",
    "if x % 2 == 0:\n",
    "  print(\"x habis dibagi 2\")\n",
    "elif x % 3 == 0:\n",
    "  print(\"x habis dibagi 3\")\n",
    "elif x % 5 == 0:\n",
    "  print(\"x habis dibagi 5\")\n",
    "else:\n",
    "  print(\"x tidak habis dibagi 2, 3, dan 5\")"
   ]
  },
  {
   "cell_type": "code",
   "execution_count": 72,
   "metadata": {},
   "outputs": [
    {
     "name": "stdout",
     "output_type": "stream",
     "text": [
      "Selamat Siang\n"
     ]
    }
   ],
   "source": [
    "jam  = 13\n",
    "if jam >= 5 and jam < 12:\n",
    "  print(\"Selamat Pagi\")\n",
    "elif jam >= 12 and jam < 17:\n",
    "  print(\"Selamat Siang\")\n",
    "elif jam >= 17 and jam < 19:\n",
    "  print(\"Selamat Sore\")\n",
    "else:\n",
    "  print(\"Selamat Malam\")"
   ]
  },
  {
   "cell_type": "code",
   "execution_count": 73,
   "metadata": {},
   "outputs": [
    {
     "name": "stdout",
     "output_type": "stream",
     "text": [
      "Tagihan kepada:\n",
      "Mr. Yoyo\n",
      "Selamat pagi, anda harus membayar tagihan sebesar:\n",
      "85000000\n"
     ]
    }
   ],
   "source": [
    "# Tugas Praktek\n",
    "tagihan_ke = \"Mr. Yoyo\"\n",
    "warehousing = {\n",
    "  \"harga_harian\":1000000,\n",
    "  \"total_hari\":15\n",
    "}\n",
    "cleansing = {\n",
    "  \"harga_harian\":1500000,\n",
    "  \"total_hari\":10\n",
    "}\n",
    "integration = {\n",
    "  \"harga_harian\":2000000,\n",
    "  \"total_hari\":15\n",
    "}\n",
    "transform = {\n",
    "  \"harga_harian\":2500000,\n",
    "  \"total_hari\":10\n",
    "}\n",
    "sub_warehousing = warehousing[\"harga_harian\"]*warehousing[\"total_hari\"]\n",
    "sub_cleansing = cleansing[\"harga_harian\"]*cleansing[\"total_hari\"]\n",
    "sub_integration = integration[\"harga_harian\"]*integration[\"total_hari\"]\n",
    "sub_transform = transform[\"harga_harian\"]*transform[\"total_hari\"]\n",
    "total_harga = sub_warehousing + sub_cleansing + sub_integration + sub_transform\n",
    "print(\"Tagihan kepada:\")\n",
    "print(tagihan_ke)\n",
    "print(\"Selamat pagi, anda harus membayar tagihan sebesar:\")\n",
    "print(total_harga)"
   ]
  },
  {
   "cell_type": "code",
   "execution_count": 74,
   "metadata": {},
   "outputs": [
    {
     "name": "stdout",
     "output_type": "stream",
     "text": [
      "Tagihan kepada:\n",
      "Mr. Yoyo\n",
      "Selamat siang, anda harus membayar tagihan sebesar: \n",
      "85000000\n"
     ]
    }
   ],
   "source": [
    "# Tugas Praktek\n",
    "jam = 17\n",
    "tagihan_ke = \"Mr. Yoyo\"\n",
    "warehousing = {\n",
    "  \"harga_harian\":1000000,\n",
    "  \"total_hari\":15\n",
    "}\n",
    "cleansing = {\n",
    "  \"harga_harian\":1500000,\n",
    "  \"total_hari\":10\n",
    "}\n",
    "integration = {\n",
    "  \"harga_harian\":2000000,\n",
    "  \"total_hari\":15\n",
    "}\n",
    "transform = {\n",
    "  \"harga_harian\":2500000,\n",
    "  \"total_hari\":10\n",
    "}\n",
    "sub_warehousing = warehousing[\"harga_harian\"]*warehousing[\"total_hari\"]\n",
    "sub_cleansing = cleansing[\"harga_harian\"]*cleansing[\"total_hari\"]\n",
    "sub_integration = integration[\"harga_harian\"]*integration[\"total_hari\"]\n",
    "sub_transform = transform[\"harga_harian\"]*transform[\"total_hari\"]\n",
    "total_harga = sub_warehousing + sub_cleansing + sub_integration + sub_transform\n",
    "print(\"Tagihan kepada:\")\n",
    "print(tagihan_ke)\n",
    "if jam > 19:\n",
    "  print(\"Selamat malam, anda harus membayar tagihan sebesar: \")\n",
    "elif jam > 17:\n",
    "  print(\"Selamat sore, anda harus membayar tagihan sebesar: \")\n",
    "elif jam > 12:\n",
    "  print(\"Selamat siang, anda harus membayar tagihan sebesar: \")\n",
    "else:\n",
    "  print(\"Selamat pagi, anda harus membayar tagihan sebesar: \")\n",
    "print(total_harga)"
   ]
  },
  {
   "cell_type": "markdown",
   "metadata": {},
   "source": [
    "10. Python Primitive Loop Control"
   ]
  },
  {
   "cell_type": "code",
   "execution_count": 75,
   "metadata": {},
   "outputs": [
    {
     "name": "stdout",
     "output_type": "stream",
     "text": [
      "Menghitung total tagihan tanpa menggunakan while loop = 750000\n",
      "Menghtiung total tagihan menggunakan while loop = 750000\n"
     ]
    }
   ],
   "source": [
    "# Python while loops - part 1\n",
    "# Tagihan \n",
    "tagihan = [50000, 75000, 125000, 300000, 200000]\n",
    "# Tanpa menggunakan while loop\n",
    "total_tagihan = tagihan[0] + tagihan[1] + tagihan[2] + tagihan[3] + tagihan[4]\n",
    "print(f\"Menghitung total tagihan tanpa menggunakan while loop = {total_tagihan}\")\n",
    "\n",
    "# Dengan menggunakan while loop\n",
    "i = 0\n",
    "jumlah_tagihan = len(tagihan)\n",
    "total_tagihan = 0\n",
    "while i < jumlah_tagihan:\n",
    "  total_tagihan += tagihan[i]\n",
    "  i += 1\n",
    "print(f\"Menghtiung total tagihan menggunakan while loop = {total_tagihan}\")"
   ]
  },
  {
   "cell_type": "code",
   "execution_count": 76,
   "metadata": {},
   "outputs": [
    {
     "name": "stdout",
     "output_type": "stream",
     "text": [
      "Terdapat angka minus = -1 sehingga pengulangan dihentikan\n",
      "Total tagihan menggunakan while loop = -1\n"
     ]
    }
   ],
   "source": [
    "# Python while loop - part 2\n",
    "# Tagihan\n",
    "tagihan = [50000, 75000, 125000, -300000, 200000]\n",
    "i = 0\n",
    "jumlah_tagihan = len(tagihan)\n",
    "total_tagihan = 0\n",
    "while i < jumlah_tagihan:\n",
    "  if tagihan[i] < 0:\n",
    "    total_tagihan = -1\n",
    "    print(f\"Terdapat angka minus = {total_tagihan} sehingga pengulangan dihentikan\")\n",
    "    break\n",
    "  total_tagihan += tagihan[i]\n",
    "  i += 1\n",
    "print(f\"Total tagihan menggunakan while loop = {total_tagihan}\")"
   ]
  },
  {
   "cell_type": "code",
   "execution_count": 77,
   "metadata": {},
   "outputs": [
    {
     "name": "stdout",
     "output_type": "stream",
     "text": [
      "Total tagihan menggunakan while loop dengan mengabaikan nilai minus = 750000\n"
     ]
    }
   ],
   "source": [
    "# Python while loop - part 3 \n",
    "# Tagihan\n",
    "tagihan = [50000, 75000, -150000, 125000, 300000, -50000, 200000]\n",
    "i = 0\n",
    "jumlah_tagihan = len(tagihan)\n",
    "total_tagihan = 0\n",
    "while i < jumlah_tagihan:\n",
    "  if tagihan[i] < 0:\n",
    "    i += 1\n",
    "    continue\n",
    "  total_tagihan += tagihan[i]\n",
    "  i += 1\n",
    "print(f\"Total tagihan menggunakan while loop dengan mengabaikan nilai minus = {total_tagihan}\")"
   ]
  },
  {
   "cell_type": "code",
   "execution_count": 78,
   "metadata": {},
   "outputs": [
    {
     "name": "stdout",
     "output_type": "stream",
     "text": [
      "Total tagihan menggunakan for loops = 550000\n"
     ]
    }
   ],
   "source": [
    "# Python for loops - part 1\n",
    "list_tagihan = [50000, 75000, -150000, 125000, 300000, -50000, 200000]\n",
    "total_tagihan = 0\n",
    "for tagihan in list_tagihan:\n",
    "  total_tagihan += tagihan\n",
    "print(f\"Total tagihan menggunakan for loops = {total_tagihan}\")"
   ]
  },
  {
   "cell_type": "code",
   "execution_count": 79,
   "metadata": {},
   "outputs": [
    {
     "name": "stdout",
     "output_type": "stream",
     "text": [
      "Terdapat angka minus dalam tagihan, perhitungan dihentikan\n",
      "Total taginan menggunakan for loop disertai dengan break ketika terdapat list bernilai negatif maka for loop dihentikan = 125000\n",
      "Terdapat angka minus dalam tagihan, perhitungan di abaikan\n",
      "Terdapat angka minus dalam tagihan, perhitungan di abaikan\n",
      "Total tagihan menggunakan for loop disertai dengan continue ketika terdapat list bernilai negatif maka diabaikan = 750000\n"
     ]
    }
   ],
   "source": [
    "# Python for loops - Part 2\n",
    "list_tagihan = [50000, 75000, -150000, 125000, 300000, -50000, 200000]\n",
    "# for loop with break\n",
    "total_tagihan_break = 0\n",
    "for tagihan in list_tagihan:\n",
    "  if tagihan < 0:\n",
    "    print(f\"Terdapat angka minus dalam tagihan, perhitungan dihentikan\")\n",
    "    break\n",
    "  total_tagihan_break += tagihan\n",
    "print(f\"Total taginan menggunakan for loop disertai dengan break ketika terdapat list bernilai negatif maka for loop dihentikan = {total_tagihan_break}\")\n",
    "\n",
    "# for loop with continue\n",
    "total_tagihan_continue = 0\n",
    "for tagihan in list_tagihan:\n",
    "  if tagihan < 0:\n",
    "    print(f\"Terdapat angka minus dalam tagihan, perhitungan di abaikan\")\n",
    "    continue\n",
    "  total_tagihan_continue += tagihan\n",
    "print(f\"Total tagihan menggunakan for loop disertai dengan continue ketika terdapat list bernilai negatif maka diabaikan = {total_tagihan_continue}\")\n"
   ]
  },
  {
   "cell_type": "code",
   "execution_count": 80,
   "metadata": {},
   "outputs": [
    {
     "name": "stdout",
     "output_type": "stream",
     "text": [
      "Apel : Malang\n",
      "Duku : Malang\n",
      "Jeruk : Malang\n",
      "Apel : Palembang\n",
      "Duku : Palembang\n",
      "Jeruk : Palembang\n",
      "Apel : Medan\n",
      "Duku : Medan\n",
      "Jeruk : Medan\n"
     ]
    }
   ],
   "source": [
    "# Python for loop - part 3\n",
    "list_daerah = [\"Malang\", \"Palembang\", \"Medan\"]\n",
    "list_buah = [\"Apel\", \"Duku\", \"Jeruk\"]\n",
    "for nama_daerah in list_daerah:\n",
    "  for nama_buah in list_buah:\n",
    "    print(f\"{nama_buah} : {nama_daerah}\")"
   ]
  },
  {
   "cell_type": "code",
   "execution_count": 81,
   "metadata": {},
   "outputs": [
    {
     "name": "stdout",
     "output_type": "stream",
     "text": [
      "Total pemasukan = 65000000\n",
      "Total pengeluaran = -12500000\n"
     ]
    }
   ],
   "source": [
    "# Tugas praktel\n",
    "list_cash_flow = [\n",
    "2500000, 5000000, -1000000, -2500000, 5000000, 10000000,\n",
    "-5000000, 7500000, 10000000, -1500000, 25000000, -2500000\n",
    "]\n",
    "\n",
    "total_pemasukan, total_pengeluaran = 0, 0\n",
    "for cash in list_cash_flow:\n",
    "  if cash >= 0:\n",
    "    total_pemasukan += cash\n",
    "  elif cash < 0:\n",
    "    total_pengeluaran += cash\n",
    "  else:\n",
    "    continue\n",
    "print(f\"Total pemasukan = {total_pemasukan}\")\n",
    "print(f\"Total pengeluaran = {total_pengeluaran}\")"
   ]
  },
  {
   "cell_type": "code",
   "execution_count": 82,
   "metadata": {},
   "outputs": [
    {
     "name": "stdout",
     "output_type": "stream",
     "text": [
      "Total jumlah kendaraan bernomor genap = 3\n",
      "Totak jumlah kendaraan bernomor ganjil = 4\n",
      "Total uang jalan kendaraan bernomor genap selama 31 = 72000000\n",
      "Total uang jalan kendaraan bernomor ganjil selama 31 = 96000000\n"
     ]
    }
   ],
   "source": [
    "# Tugas \n",
    "# Data\n",
    "uang_jalan = 1500000\n",
    "jumlah_hari = 31\n",
    "list_plat_nomor = [8993, 2198, 2501, 2735, 3772, 4837, 9152]\n",
    "# Pengecekan plat nomor apakah ganjil atau genap\n",
    "kendaraan_genap, kendaraan_ganjil = 0, 0\n",
    "for plat_nomor in list_plat_nomor:\n",
    "  if plat_nomor % 2 == 0:\n",
    "    kendaraan_genap += 1\n",
    "  elif plat_nomor % 2 != 0:\n",
    "    kendaraan_ganjil += 1\n",
    "  else:\n",
    "    continue\n",
    "# Total pengeluaran untuk setiap kendaraan genap atau ganjil\n",
    "total_pendapatan_kendaraan_genap, total_pendapatan_kendaraan_ganjil = 0, 0\n",
    "i = 0\n",
    "while i <= jumlah_hari:\n",
    "  if i % 2 == 0:\n",
    "    total_pendapatan_kendaraan_genap += (kendaraan_genap * uang_jalan)\n",
    "  elif i % 2 != 0:\n",
    "    total_pendapatan_kendaraan_ganjil += (kendaraan_ganjil * uang_jalan)\n",
    "  else:\n",
    "    i+=1\n",
    "    continue\n",
    "  i+=1\n",
    "\n",
    "print(f\"Total jumlah kendaraan bernomor genap = {kendaraan_genap}\")\n",
    "print(f\"Totak jumlah kendaraan bernomor ganjil = {kendaraan_ganjil}\")\n",
    "print(f\"Total uang jalan kendaraan bernomor genap selama {jumlah_hari} = {total_pendapatan_kendaraan_genap}\")\n",
    "print(f\"Total uang jalan kendaraan bernomor ganjil selama {jumlah_hari} = {total_pendapatan_kendaraan_ganjil}\")"
   ]
  },
  {
   "cell_type": "code",
   "execution_count": null,
   "metadata": {},
   "outputs": [],
   "source": []
  }
 ],
 "metadata": {
  "kernelspec": {
   "display_name": "Python 3",
   "language": "python",
   "name": "python3"
  },
  "language_info": {
   "codemirror_mode": {
    "name": "ipython",
    "version": 3
   },
   "file_extension": ".py",
   "mimetype": "text/x-python",
   "name": "python",
   "nbconvert_exporter": "python",
   "pygments_lexer": "ipython3",
   "version": "3.11.2"
  }
 },
 "nbformat": 4,
 "nbformat_minor": 2
}
